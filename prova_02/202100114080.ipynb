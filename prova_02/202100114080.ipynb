{
 "cells": [
  {
   "cell_type": "markdown",
   "metadata": {},
   "source": [
    "# Resolução da 2° Prova de PAA - 2024.2 - Jânio Coutinho\n",
    "\n",
    "Breno Murilo Alexandre Reis Santos - 202100022701   \n",
    "João Rosa Conceição - 202100023093   \n",
    "Matheus Araujo Pereira - 202100114080   "
   ]
  },
  {
   "cell_type": "markdown",
   "metadata": {},
   "source": [
    "## Imports"
   ]
  },
  {
   "cell_type": "code",
   "execution_count": 6,
   "metadata": {},
   "outputs": [],
   "source": [
    "import time, math, random\n",
    "import numpy as np\n",
    "import matplotlib.pyplot as plt\n",
    "from matplotlib.patches import Circle\n",
    "from scipy.spatial import ConvexHull\n",
    "from collections import OrderedDict"
   ]
  },
  {
   "cell_type": "markdown",
   "metadata": {},
   "source": [
    "## Questão 1\n",
    "\n",
    "### a) Função para ler o conjunto de pontos e armazenar em 2 vetores, um vetor X com as primeiras coordenadas e um vetor Y com as segundas coordenadas."
   ]
  },
  {
   "cell_type": "code",
   "execution_count": 7,
   "metadata": {},
   "outputs": [],
   "source": [
    "def ler_pontos(nome_arquivo):\n",
    "    \"\"\"\n",
    "    Lê um arquivo contendo coordenadas bi-dimensionais e armazena\n",
    "    os valores em dois vetores: coordenadas_x e coordenadas_y.\n",
    "\n",
    "    Formato esperado:\n",
    "    - Primeira linha: número inteiro N de pontos.\n",
    "    - Linhas seguintes: duas coordenadas separadas por vírgula, ex: 1.0, 2.5\n",
    "\n",
    "    Parâmetros:\n",
    "    - nome_arquivo (str): caminho do arquivo com os pontos.\n",
    "\n",
    "    Retorna:\n",
    "    - coordenadas_x (list[float]): lista com as coordenadas x.\n",
    "    - coordenadas_y (list[float]): lista com as coordenadas y.\n",
    "    \"\"\"\n",
    "    with open(nome_arquivo, \"r\") as arquivo:\n",
    "        numero_pontos = int(arquivo.readline().strip())\n",
    "        coordenadas_x, coordenadas_y = [], []\n",
    "\n",
    "        for _ in range(numero_pontos):\n",
    "            linha = arquivo.readline().strip().split(\",\")\n",
    "            coordenadas_x.append(float(linha[0]))\n",
    "            coordenadas_y.append(float(linha[1]))\n",
    "\n",
    "    return coordenadas_x, coordenadas_y"
   ]
  },
  {
   "cell_type": "markdown",
   "metadata": {},
   "source": [
    "### b) Função poly(X, k)"
   ]
  },
  {
   "cell_type": "code",
   "execution_count": 8,
   "metadata": {},
   "outputs": [],
   "source": [
    "def poly(coordenadas_x, grau):\n",
    "    \"\"\"\n",
    "    Gera uma matriz (lista de listas) onde cada linha contém as potências\n",
    "    de x no intervalo [grau, 0]. Assim, cada linha terá (grau + 1) colunas.\n",
    "\n",
    "    Parâmetros:\n",
    "    - coordenadas_x (list[float]): lista dos valores de x.\n",
    "    - grau (int): grau máximo de elevação.\n",
    "\n",
    "    Retorna:\n",
    "    - matriz (list[list[float]]): matriz com as potências de x, onde a linha i\n",
    "      corresponde aos valores de coordenadas_x[i] elevados a grau, grau-1, ..., 0.\n",
    "    \"\"\"\n",
    "    matriz = []\n",
    "    for x in coordenadas_x:\n",
    "        linha_de_valores = []\n",
    "        for expoente in range(grau, -1, -1):\n",
    "            linha_de_valores.append(x**expoente)\n",
    "        matriz.append(linha_de_valores)\n",
    "    return matriz"
   ]
  },
  {
   "cell_type": "markdown",
   "metadata": {},
   "source": [
    "### c) Função inv(M)"
   ]
  },
  {
   "cell_type": "code",
   "execution_count": 9,
   "metadata": {},
   "outputs": [],
   "source": [
    "def inv(matriz):\n",
    "    \"\"\"\n",
    "    Inverte uma matriz quadrada por meio de eliminação Gaussiana,\n",
    "    utilizando pivoteamento para melhorar a estabilidade numérica.\n",
    "\n",
    "    Parâmetros:\n",
    "    - matriz (list[list[float]]): matriz quadrada a ser invertida\n",
    "\n",
    "    Retorna:\n",
    "    - (list[list[float]]): a matriz invertida\n",
    "    \"\"\"\n",
    "    n = len(matriz)\n",
    "    # Cria a matriz identidade para realizar as operações\n",
    "    identidade = [[float(i == j) for j in range(n)] for i in range(n)]\n",
    "    # Faz uma cópia da matriz original para não alterá-la\n",
    "    mat_copia = [linha[:] for linha in matriz]\n",
    "\n",
    "    for i in range(n):\n",
    "        # Pivô\n",
    "        pivo = mat_copia[i][i]\n",
    "        if abs(pivo) < 1e-12:  # Evita divisões por zero ou pivôs muito pequenos\n",
    "            # Tenta encontrar uma linha adequada para trocar\n",
    "            for r in range(i + 1, n):\n",
    "                if abs(mat_copia[r][i]) > abs(pivo):\n",
    "                    mat_copia[i], mat_copia[r] = mat_copia[r], mat_copia[i]\n",
    "                    identidade[i], identidade[r] = identidade[r], identidade[i]\n",
    "                    pivo = mat_copia[i][i]\n",
    "                    break\n",
    "        # Normaliza a linha i para que o pivô vire 1\n",
    "        for c in range(n):\n",
    "            mat_copia[i][c] /= pivo\n",
    "            identidade[i][c] /= pivo\n",
    "\n",
    "        # Elimina o elemento abaixo e acima do pivô\n",
    "        for r in range(n):\n",
    "            if r != i:\n",
    "                fator = mat_copia[r][i]\n",
    "                for c in range(n):\n",
    "                    mat_copia[r][c] -= fator * mat_copia[i][c]\n",
    "                    identidade[r][c] -= fator * identidade[i][c]\n",
    "\n",
    "    return identidade"
   ]
  },
  {
   "cell_type": "markdown",
   "metadata": {},
   "source": [
    "### d) Função ajusta(X, Y, k) com tempo do cálculo de P e SSE."
   ]
  },
  {
   "cell_type": "code",
   "execution_count": 10,
   "metadata": {},
   "outputs": [],
   "source": [
    "def transposta(matriz):\n",
    "    \"\"\"\n",
    "    Retorna a transposta de 'matriz', convertendo linhas em colunas e vice-versa.\n",
    "\n",
    "    Parâmetros:\n",
    "    - matriz (list[list[float]]): matriz que se deseja transpor.\n",
    "\n",
    "    Retorna:\n",
    "    - list[list[float]]: matriz transposta.\n",
    "    \"\"\"\n",
    "    # A função zip(*matriz) agrupa elementos de cada linha, formando colunas\n",
    "    # O list(linha) converte cada tupla resultante em lista\n",
    "    return [list(linha) for linha in zip(*matriz)]"
   ]
  },
  {
   "cell_type": "code",
   "execution_count": 11,
   "metadata": {},
   "outputs": [],
   "source": [
    "def matmul(matriz_a, matriz_b):\n",
    "    \"\"\"\n",
    "    Retorna o produto de duas matrizes (matriz_a x matriz_b).\n",
    "\n",
    "    Parâmetros:\n",
    "    - matriz_a (list[list[float]]): primeira matriz.\n",
    "    - matriz_b (list[list[float]]): segunda matriz.\n",
    "\n",
    "    Retorna:\n",
    "    - list[list[float]]: resultado da multiplicação de matriz_a por matriz_b.\n",
    "    \"\"\"\n",
    "    linhas_a, colunas_a = len(matriz_a), len(matriz_a[0])\n",
    "    linhas_b, colunas_b = len(matriz_b), len(matriz_b[0])\n",
    "\n",
    "    # Confere se a multiplicação é possível\n",
    "    # (o número de colunas de A deve ser igual ao número de linhas de B)\n",
    "    if colunas_a != linhas_b:\n",
    "        raise ValueError(\"Dimensões inválidas para a multiplicação de matrizes.\")\n",
    "\n",
    "    # Inicializa a matriz resultado com zeros\n",
    "    resultado = [[0.0] * colunas_b for _ in range(linhas_a)]\n",
    "\n",
    "    # Percorre cada célula da matriz resultado efetuando as somas necessárias\n",
    "    for i in range(linhas_a):\n",
    "        for j in range(colunas_b):\n",
    "            soma = 0.0\n",
    "            for k in range(colunas_a):\n",
    "                soma += matriz_a[i][k] * matriz_b[k][j]\n",
    "            resultado[i][j] = soma\n",
    "\n",
    "    return resultado"
   ]
  },
  {
   "cell_type": "code",
   "execution_count": 12,
   "metadata": {},
   "outputs": [],
   "source": [
    "def ajusta(valores_x, valores_y, grau):\n",
    "    \"\"\"\n",
    "    Ajusta um polinômio de grau 'grau' ao conjunto de pontos (valores_x, valores_y)\n",
    "    utilizando o método dos mínimos quadrados. Retorna os coeficientes P,\n",
    "    o tempo de execução e o valor do SSE (Soma dos Quadrados dos Erros).\n",
    "\n",
    "    Parâmetros:\n",
    "    - valores_x (list[float]): coordenadas x dos pontos.\n",
    "    - valores_y (list[float]): coordenadas y dos pontos.\n",
    "    - grau (int): grau do polinômio.\n",
    "\n",
    "    Retorna:\n",
    "    - coeficientes (list[float]): coeficientes do polinômio ajustado.\n",
    "    - tempo_execucao (float): tempo de execução do cálculo.\n",
    "    - SSE (float): soma dos quadrados dos erros entre valores preditos e observados.\n",
    "    \"\"\"\n",
    "    inicio = time.time()\n",
    "\n",
    "    # Matriz A resultante da função poly\n",
    "    matriz_a = poly(valores_x, grau)\n",
    "    # Transposta de A\n",
    "    matriz_a_transposta = transposta(matriz_a)\n",
    "    # Produto A^T * A\n",
    "    matriz_intermediaria = matmul(matriz_a_transposta, matriz_a)\n",
    "    # Inversão de A^T * A\n",
    "    matriz_inversa = inv(matriz_intermediaria)\n",
    "    # Criação de um vetor coluna para Y\n",
    "    vetor_coluna_y = [[y] for y in valores_y]\n",
    "    # Cálculo dos coeficientes P = inv(A^T A) * A^T * Y\n",
    "    matriz_coeficientes = matmul(\n",
    "        matriz_inversa, matmul(matriz_a_transposta, vetor_coluna_y)\n",
    "    )\n",
    "    coeficientes = [linha[0] for linha in matriz_coeficientes]\n",
    "\n",
    "    # Cálculo da soma dos quadrados dos erros (SSE)\n",
    "    SSE = 0\n",
    "    for i, x in enumerate(valores_x):\n",
    "        valor_predito = 0\n",
    "        for j in range(grau + 1):\n",
    "            valor_predito += matriz_a[i][j] * coeficientes[j]\n",
    "        SSE += (valor_predito - valores_y[i]) ** 2\n",
    "\n",
    "    tempo_execucao = time.time() - inicio\n",
    "    return coeficientes, tempo_execucao, SSE"
   ]
  },
  {
   "cell_type": "markdown",
   "metadata": {},
   "source": [
    "### e) Preencher a tabela com os 3 arquivos enviados (\"a1.txt\", \"a2-1.txt\" e \"a3-1.txt\")"
   ]
  },
  {
   "cell_type": "code",
   "execution_count": 13,
   "metadata": {},
   "outputs": [],
   "source": [
    "def calcula_ajustes(arquivos):\n",
    "    \"\"\"\n",
    "    Para cada arquivo em 'arquivos', e para cada grau escolhido, aplica o\n",
    "    ajuste polinomial e registra o arquivo, o grau, o tempo de execução\n",
    "    e o SSE (Soma dos Quadrados dos Erros).\n",
    "\n",
    "    Parâmetros:\n",
    "    - arquivos (list[str]): lista com os nomes de arquivos de dados.\n",
    "\n",
    "    Retorna:\n",
    "    - list[tuple]: lista de tuplas (arquivo, grau, tempo_execucao, SSE).\n",
    "    \"\"\"\n",
    "    ks = [1, 2, 10]\n",
    "    resultados = []\n",
    "    for idx, arquivo in enumerate(arquivos, start=1):\n",
    "        for k_val in ks:\n",
    "            X, Y = ler_pontos(arquivo)\n",
    "            P, tempo_calc, SSE = ajusta(X, Y, k_val)\n",
    "            resultados.append((arquivo, k_val, tempo_calc, SSE))\n",
    "    return resultados"
   ]
  },
  {
   "cell_type": "code",
   "execution_count": 14,
   "metadata": {},
   "outputs": [],
   "source": [
    "def mostrar_tabela(resultados):\n",
    "    \"\"\"\n",
    "    Exibe os resultados em formato de tabela simples,\n",
    "    apresentando arquivo, grau, tempo de execução e SSE.\n",
    "\n",
    "    Parâmetros:\n",
    "    - resultados (list[tuple]): lista de tuplas (arquivo, grau, tempo_execucao, SSE).\n",
    "    \"\"\"\n",
    "    print(\"| Arquivo | k | Tempo de Execução | SSE |\")\n",
    "    for arq, k_val, tempo, sse in resultados:\n",
    "        print(f\"| {arq} | {k_val} | {tempo:.6f} | {sse:.6f} |\")"
   ]
  },
  {
   "cell_type": "code",
   "execution_count": 15,
   "metadata": {},
   "outputs": [
    {
     "name": "stdout",
     "output_type": "stream",
     "text": [
      "| Arquivo | k | Tempo de Execução | SSE |\n",
      "| a1.txt | 1 | 0.001824 | 562627.134500 |\n",
      "| a1.txt | 2 | 0.002284 | 277824.003057 |\n",
      "| a1.txt | 10 | 0.008077 | 24109.383454 |\n",
      "| a2-1.txt | 1 | 0.008791 | 1648787.351667 |\n",
      "| a2-1.txt | 2 | 0.063617 | 244506.810764 |\n",
      "| a2-1.txt | 10 | 0.086523 | 244367.432403 |\n",
      "| a3-1.txt | 1 | 0.223677 | 9590.351581 |\n",
      "| a3-1.txt | 2 | 0.266117 | 9144.300210 |\n",
      "| a3-1.txt | 10 | 1.279132 | 408.293337 |\n"
     ]
    }
   ],
   "source": [
    "arquivos = [\"a1.txt\", \"a2-1.txt\", \"a3-1.txt\"]\n",
    "resultados = calcula_ajustes(arquivos)\n",
    "mostrar_tabela(resultados)"
   ]
  },
  {
   "cell_type": "markdown",
   "metadata": {},
   "source": [
    "### f) Complexidade teórica\n",
    "\n",
    "A complexidade de tempo teórica de cálculo de P é denominada pela construção da matriz A (poly): O(N * K), cálculo da transposta de A: O(N * K²), inversão da matriz (inv): O(K³) e multiplicação de matrizes (matmul): O(K³) para cada multiplicação. Sendo assim a complexidade total é: O(N * K + N * K² + K³ + K³) = O(N * K² + K³)."
   ]
  },
  {
   "cell_type": "markdown",
   "metadata": {},
   "source": [
    "## Questão 2\n",
    "\n",
    "### a) Transformação do problema em um problema linear\n",
    "\n",
    "Aplicamos o logaritmo natural em ambos os lados:\n",
    "   log(y) = log(p1) + p2 * x\n",
    "\n",
    "Definindo:\n",
    "   a = log(p1)\n",
    "\n",
    "O modelo se torna:\n",
    "    log(y) = a + p2 * x\n",
    "\n",
    "Este é um modelo linear em relação aos parâmetros a e p2, que pode ser ajustado utilizando técnicas de regressão linear. Após encontrar os valores de a e p2, recuperamos o parâmetro original p1 com:\n",
    "   p1 = exp(a)\n",
    "\n",
    "Assim, transformamos o problema original em um problema linear.\n",
    "\n",
    "### b) Função ajustaExp(X, Y)"
   ]
  },
  {
   "cell_type": "code",
   "execution_count": 16,
   "metadata": {},
   "outputs": [],
   "source": [
    "def ajustaExp(valores_x, valores_y):\n",
    "    \"\"\"\n",
    "    Ajusta a função p1 * exp(p2 * x) aos dados fornecidos (valores_x, valores_y),\n",
    "    transformando em um problema linear via logaritmo. Retorna p1, p2,\n",
    "    o tempo de cálculo e o SSE (Soma dos Quadrados dos Erros).\n",
    "\n",
    "    Parâmetros:\n",
    "    - valores_x (list[float]): coordenadas x dos pontos.\n",
    "    - valores_y (list[float]): coordenadas y dos pontos (positivos).\n",
    "\n",
    "    Retorna:\n",
    "    - p1 (float): coeficiente multiplicativo.\n",
    "    - p2 (float): coeficiente do expoente.\n",
    "    - tempo_calc (float): tempo de execução do ajuste.\n",
    "    - SSE (float): soma dos quadrados dos erros.\n",
    "    \"\"\"\n",
    "    # Verifica se todos os valores de Y são positivos\n",
    "    if any(y_valor <= 0 for y_valor in valores_y):\n",
    "        raise ValueError(\n",
    "            \"Todos os valores de Y devem ser positivos para aplicar logaritmo.\"\n",
    "        )\n",
    "\n",
    "    inicio = time.time()\n",
    "\n",
    "    # Aplica log em Y para linearizar o problema\n",
    "    log_y = [math.log(y_valor) for y_valor in valores_y]\n",
    "\n",
    "    # Ajusta o modelo linear: log(y) = a + p2*x\n",
    "    # (usa a função 'ajusta' da questão 1 para grau 1)\n",
    "    P, _, SSE_log = ajusta(valores_x, log_y, 1)\n",
    "\n",
    "    a = P[1]  # intercepto no modelo linear\n",
    "    p2 = P[0]  # coeficiente de x no modelo linear\n",
    "    p1 = math.exp(a)  # recupera p1 original\n",
    "\n",
    "    tempo_calc = time.time() - inicio\n",
    "\n",
    "    # Ajusta SSE ao modelo exponencial diretamente:\n",
    "    SSE = 0\n",
    "    for i, x_valor in enumerate(valores_x):\n",
    "        pred = p1 * math.exp(p2 * x_valor)\n",
    "        SSE += (pred - valores_y[i]) ** 2\n",
    "\n",
    "    return p1, p2, tempo_calc, SSE"
   ]
  },
  {
   "cell_type": "code",
   "execution_count": 17,
   "metadata": {},
   "outputs": [],
   "source": [
    "def gerar_dados_exponenciais(p1, p2, valores_x):\n",
    "    \"\"\"\n",
    "    Gera valores de y = p1 * exp(p2 * x) para cada x em valores_x.\n",
    "\n",
    "    Parâmetros:\n",
    "    - p1 (float): coeficiente multiplicativo do modelo exponencial.\n",
    "    - p2 (float): expoente do modelo exponencial.\n",
    "    - valores_x (list[float]): lista de valores para x.\n",
    "\n",
    "    Retorna:\n",
    "    - list[float]: lista de valores calculados para y.\n",
    "    \"\"\"\n",
    "    return [p1 * math.exp(p2 * x_valor) for x_valor in valores_x]"
   ]
  },
  {
   "cell_type": "code",
   "execution_count": 18,
   "metadata": {},
   "outputs": [],
   "source": [
    "# Exemplo de uso com dados fictícios mais amplos\n",
    "valores_x_exemplo = [i * 0.5 for i in range(11)]\n",
    "p1_real, p2_real = 5.0, 0.3\n",
    "valores_y_exemplo = gerar_dados_exponenciais(p1_real, p2_real, valores_x_exemplo)"
   ]
  },
  {
   "cell_type": "code",
   "execution_count": 19,
   "metadata": {},
   "outputs": [
    {
     "name": "stdout",
     "output_type": "stream",
     "text": [
      "Exemplo de ajuste exponencial:\n",
      "p1 ajustado: 5.0000, p2 ajustado: 0.3000\n",
      "Tempo de cálculo: 0.000135s, SSE: 0.000000\n"
     ]
    }
   ],
   "source": [
    "p1_ajustado, p2_ajustado, tempo_exec, SSE = ajustaExp(\n",
    "    valores_x_exemplo, valores_y_exemplo\n",
    ")\n",
    "print(\"Exemplo de ajuste exponencial:\")\n",
    "print(f\"p1 ajustado: {p1_ajustado:.4f}, p2 ajustado: {p2_ajustado:.4f}\")\n",
    "print(f\"Tempo de cálculo: {tempo_exec:.6f}s, SSE: {SSE:.6f}\")"
   ]
  },
  {
   "cell_type": "code",
   "execution_count": 20,
   "metadata": {},
   "outputs": [
    {
     "name": "stdout",
     "output_type": "stream",
     "text": [
      "\n",
      "Exemplo de ajuste exponencial (2):\n",
      "p1 ajustado: 2.5000, p2 ajustado: 0.7000\n",
      "Tempo de cálculo: 0.000083s, SSE: 0.000000\n"
     ]
    }
   ],
   "source": [
    "# Exemplo adicional 1\n",
    "valores_x_exemplo2 = [i for i in range(0, 8)]\n",
    "p1_real2, p2_real2 = 2.5, 0.7\n",
    "valores_y_exemplo2 = gerar_dados_exponenciais(p1_real2, p2_real2, valores_x_exemplo2)\n",
    "p1_ajustado2, p2_ajustado2, tempo_exec2, SSE2 = ajustaExp(\n",
    "    valores_x_exemplo2, valores_y_exemplo2\n",
    ")\n",
    "print(\"\\nExemplo de ajuste exponencial (2):\")\n",
    "print(f\"p1 ajustado: {p1_ajustado2:.4f}, p2 ajustado: {p2_ajustado2:.4f}\")\n",
    "print(f\"Tempo de cálculo: {tempo_exec2:.6f}s, SSE: {SSE2:.6f}\")"
   ]
  },
  {
   "cell_type": "code",
   "execution_count": 21,
   "metadata": {},
   "outputs": [
    {
     "name": "stdout",
     "output_type": "stream",
     "text": [
      "\n",
      "Exemplo de ajuste exponencial (3):\n",
      "p1 ajustado: 1.0000, p2 ajustado: -0.5000\n",
      "Tempo de cálculo: 0.000056s, SSE: 0.000000\n"
     ]
    }
   ],
   "source": [
    "# Exemplo adicional 2\n",
    "valores_x_exemplo3 = [x * 0.1 for x in range(10)]\n",
    "p1_real3, p2_real3 = 1.0, -0.5\n",
    "valores_y_exemplo3 = gerar_dados_exponenciais(p1_real3, p2_real3, valores_x_exemplo3)\n",
    "p1_ajustado3, p2_ajustado3, tempo_exec3, SSE3 = ajustaExp(\n",
    "    valores_x_exemplo3, valores_y_exemplo3\n",
    ")\n",
    "print(\"\\nExemplo de ajuste exponencial (3):\")\n",
    "print(f\"p1 ajustado: {p1_ajustado3:.4f}, p2 ajustado: {p2_ajustado3:.4f}\")\n",
    "print(f\"Tempo de cálculo: {tempo_exec3:.6f}s, SSE: {SSE3:.6f}\")"
   ]
  },
  {
   "cell_type": "code",
   "execution_count": 22,
   "metadata": {},
   "outputs": [],
   "source": [
    "def gerar_dados_exponenciais_com_ruido(p1, p2, valores_x, ruido=0.1):\n",
    "    \"\"\"\n",
    "    Gera valores de y = p1 * exp(p2 * x) para cada x em valores_x,\n",
    "    adicionando um ruído aleatório para evitar SSE zero.\n",
    "\n",
    "    Parâmetros:\n",
    "    - p1 (float): coeficiente multiplicativo do modelo exponencial.\n",
    "    - p2 (float): expoente do modelo exponencial.\n",
    "    - valores_x (list[float]): lista de valores para x.\n",
    "    - ruido (float): escala do ruído randômico a ser adicionado aos dados.\n",
    "\n",
    "    Retorna:\n",
    "    - list[float]: lista de valores calculados para y, com ruído.\n",
    "    \"\"\"\n",
    "    return [\n",
    "        (p1 * math.exp(p2 * x_valor)) + (ruido * random.random())\n",
    "        for x_valor in valores_x\n",
    "    ]"
   ]
  },
  {
   "cell_type": "code",
   "execution_count": 23,
   "metadata": {},
   "outputs": [
    {
     "name": "stdout",
     "output_type": "stream",
     "text": [
      "\n",
      "Exemplo de ajuste exponencial (com ruído):\n",
      "p1 ajustado: 2.1214, p2 ajustado: 0.2883\n",
      "Tempo de cálculo: 0.000062s, SSE: 0.023240\n"
     ]
    }
   ],
   "source": [
    "# Exemplo com ruído para gerar SSE não-nulo\n",
    "valores_x_exemplo4 = [i for i in range(6)]\n",
    "p1_real4, p2_real4 = 2.0, 0.3\n",
    "valores_y_exemplo4 = gerar_dados_exponenciais_com_ruido(\n",
    "    p1_real4, p2_real4, valores_x_exemplo4, ruido=0.2\n",
    ")\n",
    "\n",
    "p1_ajustado4, p2_ajustado4, tempo_exec4, SSE4 = ajustaExp(\n",
    "    valores_x_exemplo4, valores_y_exemplo4\n",
    ")\n",
    "print(\"\\nExemplo de ajuste exponencial (com ruído):\")\n",
    "print(f\"p1 ajustado: {p1_ajustado4:.4f}, p2 ajustado: {p2_ajustado4:.4f}\")\n",
    "print(f\"Tempo de cálculo: {tempo_exec4:.6f}s, SSE: {SSE4:.6f}\")"
   ]
  },
  {
   "cell_type": "markdown",
   "metadata": {},
   "source": [
    "## Questão 3\n",
    "\n",
    "### a) Função pol(P)"
   ]
  },
  {
   "cell_type": "code",
   "execution_count": 24,
   "metadata": {},
   "outputs": [],
   "source": [
    "def mediana(valores):\n",
    "    \"\"\"\n",
    "    Calcula a mediana de uma lista de valores reais.\n",
    "\n",
    "    Se a lista tiver tamanho ímpar, retorna o valor central.\n",
    "    Se for par, retorna a média dos dois valores centrais.\n",
    "\n",
    "    Parâmetros:\n",
    "    - valores (list[float]): lista de números reais.\n",
    "\n",
    "    Retorna:\n",
    "    - float: valor da mediana.\n",
    "    \"\"\"\n",
    "    valores_ordenados = sorted(valores)\n",
    "    n = len(valores_ordenados)\n",
    "    if n % 2 == 1:\n",
    "        return valores_ordenados[n // 2]\n",
    "    else:\n",
    "        return (valores_ordenados[n // 2 - 1] + valores_ordenados[n // 2]) / 2"
   ]
  },
  {
   "cell_type": "code",
   "execution_count": 25,
   "metadata": {},
   "outputs": [],
   "source": [
    "def pol(pontos):\n",
    "    \"\"\"\n",
    "    Determina o ponto que minimiza a soma das distâncias Manhattan\n",
    "    para um conjunto de pontos no plano.\n",
    "\n",
    "    A distância Manhattan entre dois pontos p = (x, y) e q = (x_q, y_q) é:\n",
    "       d(p, q) = |x - x_q| + |y - y_q|\n",
    "\n",
    "    O ponto que minimiza a soma das distâncias para um conjunto de pontos\n",
    "    é dado pelas medianas separadas das coordenadas x e y.\n",
    "\n",
    "    Parâmetros:\n",
    "    - pontos (list[tuple[float, float]]): lista de pontos (x, y).\n",
    "\n",
    "    Retorna:\n",
    "    - tuple: (mediana_dos_x, mediana_dos_y), o ponto que minimiza a soma das\n",
    "      distâncias Manhattan.\n",
    "    \"\"\"\n",
    "    xs = [p[0] for p in pontos]\n",
    "    ys = [p[1] for p in pontos]\n",
    "    return (mediana(xs), mediana(ys))"
   ]
  },
  {
   "cell_type": "code",
   "execution_count": 26,
   "metadata": {},
   "outputs": [],
   "source": [
    "def test_pol():\n",
    "    \"\"\"\n",
    "    Testa a função pol(P) utilizando vários exemplos.\n",
    "\n",
    "    São apresentados 5 exemplos:\n",
    "      1. Número ímpar de pontos.\n",
    "      2. Número par de pontos.\n",
    "      3. Pontos com coordenadas variadas e desordenadas.\n",
    "      4. Pontos com todas as coordenadas x iguais.\n",
    "      5. Pontos com um grande spread nas coordenadas y.\n",
    "    \"\"\"\n",
    "    # Exemplo 1: Número ímpar de pontos\n",
    "    pontos1 = [(1, 2), (3, 4), (5, 6)]\n",
    "    resultado1 = pol(pontos1)\n",
    "    print(\"Exemplo 1 (número ímpar de pontos):\")\n",
    "    print(\"Pontos:\", pontos1)\n",
    "    print(\"Ponto que minimiza a soma Manhattan:\", resultado1)\n",
    "    print(\"-\" * 50)\n",
    "\n",
    "    # Exemplo 2: Número par de pontos\n",
    "    pontos2 = [(1, 2), (3, 4), (7, 8), (9, 10)]\n",
    "    resultado2 = pol(pontos2)\n",
    "    print(\"Exemplo 2 (número par de pontos):\")\n",
    "    print(\"Pontos:\", pontos2)\n",
    "    print(\"Ponto que minimiza a soma Manhattan:\", resultado2)\n",
    "    print(\"-\" * 50)\n",
    "\n",
    "    # Exemplo 3: Pontos variados e desordenados\n",
    "    pontos3 = [(5, 1), (2, 8), (9, 3), (4, 7), (6, 5), (3, 9)]\n",
    "    resultado3 = pol(pontos3)\n",
    "    print(\"Exemplo 3 (pontos variados):\")\n",
    "    print(\"Pontos:\", pontos3)\n",
    "    print(\"Ponto que minimiza a soma Manhattan:\", resultado3)\n",
    "    print(\"-\" * 50)\n",
    "\n",
    "    # Exemplo 4: Pontos com todas as coordenadas x iguais\n",
    "    pontos4 = [(4, 2), (4, 10), (4, 5)]\n",
    "    resultado4 = pol(pontos4)\n",
    "    print(\"Exemplo 4 (coordenadas x constantes):\")\n",
    "    print(\"Pontos:\", pontos4)\n",
    "    print(\"Ponto que minimiza a soma Manhattan:\", resultado4)\n",
    "    print(\"-\" * 50)\n",
    "\n",
    "    # Exemplo 5: Pontos com grande dispersão em y\n",
    "    pontos5 = [(1, 100), (2, -50), (3, 20), (4, 0), (5, -30)]\n",
    "    resultado5 = pol(pontos5)\n",
    "    print(\"Exemplo 5 (spread em y):\")\n",
    "    print(\"Pontos:\", pontos5)\n",
    "    print(\"Ponto que minimiza a soma Manhattan:\", resultado5)"
   ]
  },
  {
   "cell_type": "code",
   "execution_count": 27,
   "metadata": {},
   "outputs": [
    {
     "name": "stdout",
     "output_type": "stream",
     "text": [
      "Exemplo 1 (número ímpar de pontos):\n",
      "Pontos: [(1, 2), (3, 4), (5, 6)]\n",
      "Ponto que minimiza a soma Manhattan: (3, 4)\n",
      "--------------------------------------------------\n",
      "Exemplo 2 (número par de pontos):\n",
      "Pontos: [(1, 2), (3, 4), (7, 8), (9, 10)]\n",
      "Ponto que minimiza a soma Manhattan: (5.0, 6.0)\n",
      "--------------------------------------------------\n",
      "Exemplo 3 (pontos variados):\n",
      "Pontos: [(5, 1), (2, 8), (9, 3), (4, 7), (6, 5), (3, 9)]\n",
      "Ponto que minimiza a soma Manhattan: (4.5, 6.0)\n",
      "--------------------------------------------------\n",
      "Exemplo 4 (coordenadas x constantes):\n",
      "Pontos: [(4, 2), (4, 10), (4, 5)]\n",
      "Ponto que minimiza a soma Manhattan: (4, 5)\n",
      "--------------------------------------------------\n",
      "Exemplo 5 (spread em y):\n",
      "Pontos: [(1, 100), (2, -50), (3, 20), (4, 0), (5, -30)]\n",
      "Ponto que minimiza a soma Manhattan: (3, 0)\n"
     ]
    }
   ],
   "source": [
    "# Execução dos testes\n",
    "test_pol()"
   ]
  },
  {
   "cell_type": "markdown",
   "metadata": {},
   "source": [
    "### b) Qual a complexidade de tempo da sua solução?\n",
    "\n",
    "A complexidade de tempo da função pol(P) é O(n log n), pois para cada dimensão (x e y) é preciso ordenar a lista de valores, o que tem complexidade O(n log n). Como são duas ordenações, a complexidade total permanece O(n log n)."
   ]
  },
  {
   "cell_type": "markdown",
   "metadata": {},
   "source": [
    "## Questão 3 - QUICK SELECT\n",
    "\n",
    "### a) Função pol(P)"
   ]
  },
  {
   "cell_type": "code",
   "execution_count": 28,
   "metadata": {},
   "outputs": [],
   "source": [
    "def quickselect(elementos, posicao):\n",
    "    \"\"\"\n",
    "    Retorna o elemento na 'posicao' (k-ésimo menor) de 'elementos',\n",
    "    usando o algoritmo Quickselect.\n",
    "\n",
    "    :param elementos: Lista de valores na qual desejamos encontrar o k-ésimo menor elemento.\n",
    "    :param posicao: Índice (baseado em zero) do elemento desejado.\n",
    "    :return: O elemento localizado na posição específica.\n",
    "    \"\"\"\n",
    "    if len(elementos) == 1:\n",
    "        return elementos[0]\n",
    "\n",
    "    pivô = random.choice(\n",
    "        elementos\n",
    "    )  # Escolhe um pivô aleatório para eficiência média O(n)\n",
    "\n",
    "    elementos_menores = [x for x in elementos if x < pivô]\n",
    "    elementos_iguais = [x for x in elementos if x == pivô]\n",
    "    elementos_maiores = [x for x in elementos if x > pivô]\n",
    "\n",
    "    if posicao < len(elementos_menores):\n",
    "        return quickselect(elementos_menores, posicao)\n",
    "    elif posicao < len(elementos_menores) + len(elementos_iguais):\n",
    "        return pivô\n",
    "    else:\n",
    "        return quickselect(\n",
    "            elementos_maiores, posicao - len(elementos_menores) - len(elementos_iguais)\n",
    "        )"
   ]
  },
  {
   "cell_type": "code",
   "execution_count": 29,
   "metadata": {},
   "outputs": [],
   "source": [
    "def mediana(elementos):\n",
    "    \"\"\"\n",
    "    Retorna a mediana de uma lista de valores utilizando a função quickselect.\n",
    "    Se a lista tiver tamanho ímpar, retorna o elemento central.\n",
    "    Se tiver tamanho par, retorna a média dos dois elementos centrais.\n",
    "\n",
    "    :param elementos: Lista de valores numéricos.\n",
    "    :return: A mediana dos valores na lista.\n",
    "    \"\"\"\n",
    "    tamanho = len(elementos)\n",
    "    if tamanho % 2 == 1:\n",
    "        return quickselect(elementos, tamanho // 2)\n",
    "    else:\n",
    "        return (\n",
    "            quickselect(elementos, tamanho // 2 - 1)\n",
    "            + quickselect(elementos, tamanho // 2)\n",
    "        ) / 2"
   ]
  },
  {
   "cell_type": "code",
   "execution_count": 30,
   "metadata": {},
   "outputs": [],
   "source": [
    "def pol(pontos):\n",
    "    \"\"\"\n",
    "    Retorna o ponto que minimiza a soma das distâncias Manhattan em uma lista de pontos,\n",
    "    calculando a mediana de suas coordenadas x e y.\n",
    "\n",
    "    :param pontos: Lista de tuplas (x, y) representando os pontos.\n",
    "    :return: Tupla (mediana_x, mediana_y) do conjunto de pontos.\n",
    "    \"\"\"\n",
    "    valores_x = [p[0] for p in pontos]\n",
    "    valores_y = [p[1] for p in pontos]\n",
    "    return mediana(valores_x), mediana(valores_y)"
   ]
  },
  {
   "cell_type": "code",
   "execution_count": 31,
   "metadata": {},
   "outputs": [
    {
     "name": "stdout",
     "output_type": "stream",
     "text": [
      "Teste (ímpar pequeno):\n",
      "Pontos: [(1, 2), (3, 4), (5, 6)]\n",
      "Ponto que minimiza a soma Manhattan = (3, 4)\n",
      "\n",
      "Teste (par pequeno):\n",
      "Pontos: [(1, 2), (3, 4), (7, 8), (9, 10)]\n",
      "Ponto que minimiza a soma Manhattan = (5.0, 6.0)\n",
      "\n",
      "Teste (ímpar médio):\n",
      "Pontos: [(1, 10), (2, 9), (3, 8), (4, 7), (5, 6)]\n",
      "Ponto que minimiza a soma Manhattan = (3, 8)\n",
      "\n",
      "Teste (ímpar variado):\n",
      "Pontos: [(2, 3), (2, 5), (4, 1), (6, 7), (6, 4)]\n",
      "Ponto que minimiza a soma Manhattan = (4, 4)\n",
      "\n",
      "Teste (par crescente):\n",
      "Pontos: [(10, 10), (20, 20), (30, 30), (40, 40)]\n",
      "Ponto que minimiza a soma Manhattan = (25.0, 25.0)\n",
      "\n",
      "Teste (par duplicado):\n",
      "Pontos: [(5, 5), (5, 5), (5, 5), (5, 5)]\n",
      "Ponto que minimiza a soma Manhattan = (5.0, 5.0)\n",
      "\n",
      "Teste (ímpar diagonal):\n",
      "Pontos: [(1, 1), (2, 2), (3, 3)]\n",
      "Ponto que minimiza a soma Manhattan = (2, 2)\n",
      "\n",
      "Teste (par aleatório):\n",
      "Pontos: [(10, 1), (8, 5), (7, 9), (3, 3)]\n",
      "Ponto que minimiza a soma Manhattan = (7.5, 4.0)\n",
      "\n",
      "Teste (ímpar aproximado):\n",
      "Pontos: [(9, 1), (8, 0), (9, 2), (7, 2), (10, 1)]\n",
      "Ponto que minimiza a soma Manhattan = (9, 1)\n",
      "\n",
      "Teste (par próximo):\n",
      "Pontos: [(2, 2), (2, 3), (3, 2), (3, 3)]\n",
      "Ponto que minimiza a soma Manhattan = (2.5, 2.5)\n",
      "\n"
     ]
    }
   ],
   "source": [
    "def test_pol():\n",
    "    \"\"\"\n",
    "    Testa a função 'pol' com diferentes conjuntos de pontos, imprimindo o ponto\n",
    "    resultante que minimiza a soma das distâncias Manhattan.\n",
    "    \"\"\"\n",
    "    test_cases = [\n",
    "        ([(1, 2), (3, 4), (5, 6)], \"ímpar pequeno\"),\n",
    "        ([(1, 2), (3, 4), (7, 8), (9, 10)], \"par pequeno\"),\n",
    "        ([(1, 10), (2, 9), (3, 8), (4, 7), (5, 6)], \"ímpar médio\"),\n",
    "        ([(2, 3), (2, 5), (4, 1), (6, 7), (6, 4)], \"ímpar variado\"),\n",
    "        ([(10, 10), (20, 20), (30, 30), (40, 40)], \"par crescente\"),\n",
    "        ([(5, 5), (5, 5), (5, 5), (5, 5)], \"par duplicado\"),\n",
    "        ([(1, 1), (2, 2), (3, 3)], \"ímpar diagonal\"),\n",
    "        ([(10, 1), (8, 5), (7, 9), (3, 3)], \"par aleatório\"),\n",
    "        ([(9, 1), (8, 0), (9, 2), (7, 2), (10, 1)], \"ímpar aproximado\"),\n",
    "        ([(2, 2), (2, 3), (3, 2), (3, 3)], \"par próximo\"),\n",
    "    ]\n",
    "\n",
    "    for pontos, nome in test_cases:\n",
    "        resultado = pol(pontos)\n",
    "        print(f\"Teste ({nome}):\")\n",
    "        print(f\"Pontos: {pontos}\")\n",
    "        print(f\"Ponto que minimiza a soma Manhattan = {resultado}\\n\")\n",
    "\n",
    "\n",
    "test_pol()"
   ]
  },
  {
   "cell_type": "markdown",
   "metadata": {},
   "source": [
    "### b) Qual a complexidade de tempo da sua solução?\n",
    "\n",
    "A cada chamada de pol, encontramos as medianas (x e y) chamando internamente quickselect (média de O(n) em cada chamada). Portanto, cada execução de pol tem complexidade média O(n). O pior caso do Quickselect é O(n²), mas na prática costuma ser O(n)."
   ]
  },
  {
   "cell_type": "markdown",
   "metadata": {},
   "source": [
    "## Questão 4\n",
    "\n",
    "### a) Função inTri(P)"
   ]
  },
  {
   "cell_type": "code",
   "execution_count": 32,
   "metadata": {},
   "outputs": [],
   "source": [
    "def convexHull_sc(pontos):\n",
    "    \"\"\"\n",
    "    Calcula o casco convexo do conjunto de pontos utilizando SciPy.\n",
    "\n",
    "    Parâmetros:\n",
    "    - pontos (list[tuple[float, float]]): lista de pontos (x, y).\n",
    "\n",
    "    Retorna:\n",
    "    - list[tuple[float, float]]: pontos que formam o casco convexo, em ordem.\n",
    "    \"\"\"\n",
    "    pontos_array = np.array(pontos)\n",
    "    hull = ConvexHull(pontos_array)\n",
    "    hull_indices = hull.vertices\n",
    "    return [tuple(pontos_array[i]) for i in hull_indices]"
   ]
  },
  {
   "cell_type": "code",
   "execution_count": 33,
   "metadata": {},
   "outputs": [],
   "source": [
    "def inTri(pontos):\n",
    "    \"\"\"\n",
    "    Verifica se o casco convexo do conjunto 'pontos' é formado por exatamente 3 vértices.\n",
    "\n",
    "    Se sim, significa que todos os pontos estão contidos em um triângulo\n",
    "    formado pelos vértices do casco convexo.\n",
    "\n",
    "    Parâmetros:\n",
    "    - pontos (list[tuple[float, float]]): lista de pontos (x, y).\n",
    "\n",
    "    Retorna:\n",
    "    - bool: True se o casco convexo tem 3 vértices, False caso contrário.\n",
    "    \"\"\"\n",
    "    return len(convexHull_sc(pontos)) == 3"
   ]
  },
  {
   "cell_type": "code",
   "execution_count": 34,
   "metadata": {},
   "outputs": [],
   "source": [
    "def plot_exemplo(pontos, titulo):\n",
    "    \"\"\"\n",
    "    Plota os pontos, o casco convexo e exibe se o conjunto forma um triângulo.\n",
    "\n",
    "    Parâmetros:\n",
    "    - pontos (list[tuple[float, float]]): lista de pontos (x, y).\n",
    "    - titulo (str): título para o gráfico.\n",
    "    \"\"\"\n",
    "    pontos_array = np.array(pontos)\n",
    "    hull = convexHull_sc(pontos)\n",
    "    hull = np.array(\n",
    "        hull + [hull[0]]\n",
    "    )  # Fecha o polígono adicionando o primeiro ponto no final\n",
    "\n",
    "    plt.figure(figsize=(6, 5))\n",
    "    plt.scatter(pontos_array[:, 0], pontos_array[:, 1], color=\"blue\", label=\"Pontos\")\n",
    "    plt.plot(hull[:, 0], hull[:, 1], \"r--\", lw=2, label=\"Casco Convexo\")\n",
    "\n",
    "    # Exibe se o casco convexo tem exatamente 3 vértices\n",
    "    triangulo = inTri(pontos)\n",
    "    info = \"Triângulo\" if triangulo else \"Não é Triângulo\"\n",
    "    plt.title(f\"{titulo}\\n{info}\")\n",
    "    plt.xlabel(\"x\")\n",
    "    plt.ylabel(\"y\")\n",
    "    plt.legend()\n",
    "    plt.grid(True)\n",
    "    plt.show()"
   ]
  },
  {
   "cell_type": "code",
   "execution_count": 35,
   "metadata": {},
   "outputs": [
    {
     "data": {
      "image/png": "[encoded data removed]",
      "text/plain": [
       "<Figure size 600x500 with 1 Axes>"
      ]
     },
     "metadata": {},
     "output_type": "display_data"
    }
   ],
   "source": [
    "# Exemplo visual 1: Conjunto de pontos resultando num casco convexo triangular\n",
    "pontos_ex1 = [(0, 0), (1, 0), (0, 1), (0.5, 0.4)]\n",
    "plot_exemplo(pontos_ex1, \"Exemplo 1: Casco convexo triangular\")"
   ]
  },
  {
   "cell_type": "code",
   "execution_count": 36,
   "metadata": {},
   "outputs": [
    {
     "data": {
      "image/png": "[encoded data removed]",
      "text/plain": [
       "<Figure size 600x500 with 1 Axes>"
      ]
     },
     "metadata": {},
     "output_type": "display_data"
    }
   ],
   "source": [
    "# Exemplo visual 2: Conjunto de pontos formando um quadrilátero convexo\n",
    "pontos_ex2 = [(0, 0), (1, 0), (1, 1), (0, 1), (0.5, 0.5)]\n",
    "plot_exemplo(pontos_ex2, \"Exemplo 2: Casco convexo NÃO triangular\")"
   ]
  },
  {
   "cell_type": "code",
   "execution_count": 37,
   "metadata": {},
   "outputs": [
    {
     "data": {
      "image/png": "[encoded data removed]",
      "text/plain": [
       "<Figure size 600x500 with 1 Axes>"
      ]
     },
     "metadata": {},
     "output_type": "display_data"
    }
   ],
   "source": [
    "# Exemplo visual 3: Conjunto de pontos aleatórios com casco convexo com mais de 3 vértices\n",
    "pontos_ex3 = [(0.2, 0.1), (0.8, 0.2), (0.9, 0.8), (0.5, 0.5), (0.1, 0.9), (0.3, 0.7)]\n",
    "plot_exemplo(pontos_ex3, \"Exemplo 3: Casco convexo NÃO triangular\")"
   ]
  },
  {
   "cell_type": "markdown",
   "metadata": {},
   "source": [
    "### b) Qual a complexidade de inTri(P)?\n",
    "\n",
    "A complexidade de inTri(P) é dominada pelo cálculo do casco convexo (convexHull), que em geral possui complexidade O(n log n) para pontos em 2D. Portanto, a complexidade de inTri(P) é O(n log n).\n",
    "\n",
    "### c) Função inCirc(P, r)"
   ]
  },
  {
   "cell_type": "code",
   "execution_count": 38,
   "metadata": {},
   "outputs": [],
   "source": [
    "def inCirc(pontos, r):\n",
    "    \"\"\"\n",
    "    Verifica se todos os pontos de 'pontos' estão contidos em um círculo de raio r,\n",
    "    cujo centro é a média (centroide) dos pontos.\n",
    "\n",
    "    Parâmetros:\n",
    "    - pontos (list[tuple[float, float]]): lista de pontos (x, y).\n",
    "    - r (float): raio do círculo.\n",
    "\n",
    "    Retorna:\n",
    "    - bool: True se todos os pontos estiverem dentro (ou na fronteira) do círculo,\n",
    "      False caso contrário.\n",
    "    \"\"\"\n",
    "    n = len(pontos)\n",
    "    if n == 0:\n",
    "        return True  # Definido como True para o caso de lista vazia.\n",
    "\n",
    "    centro_x = sum(p[0] for p in pontos) / n\n",
    "    centro_y = sum(p[1] for p in pontos) / n\n",
    "\n",
    "    for x, y in pontos:\n",
    "        if math.sqrt((x - centro_x) ** 2 + (y - centro_y) ** 2) > r:\n",
    "            return False\n",
    "    return True"
   ]
  },
  {
   "cell_type": "code",
   "execution_count": 39,
   "metadata": {},
   "outputs": [],
   "source": [
    "def plot_inCirc(pontos, r, titulo):\n",
    "    \"\"\"\n",
    "    Plota os pontos, o círculo de raio 'r' centrado na média dos pontos e destaca o centro.\n",
    "\n",
    "    Parâmetros:\n",
    "    - pontos (list[tuple[float, float]]): lista de pontos (x, y).\n",
    "    - r (float): raio do círculo.\n",
    "    - titulo (str): título para o gráfico.\n",
    "    \"\"\"\n",
    "    pontos_array = np.array(pontos)\n",
    "    n = len(pontos)\n",
    "    centro_x = sum(p[0] for p in pontos) / n if n > 0 else 0\n",
    "    centro_y = sum(p[1] for p in pontos) / n if n > 0 else 0\n",
    "\n",
    "    fig, ax = plt.subplots(figsize=(6, 5))\n",
    "    ax.scatter(pontos_array[:, 0], pontos_array[:, 1], color=\"blue\", label=\"Pontos\")\n",
    "    ax.scatter([centro_x], [centro_y], color=\"red\", label=\"Centro (média)\", zorder=5)\n",
    "\n",
    "    # Cria e adiciona o círculo utilizando o Circle do matplotlib.patches\n",
    "    circle = Circle(\n",
    "        (centro_x, centro_y),\n",
    "        r,\n",
    "        color=\"green\",\n",
    "        fill=False,\n",
    "        linestyle=\"--\",\n",
    "        label=f\"Círculo de raio {r:.2f}\",\n",
    "    )\n",
    "    ax.add_patch(circle)\n",
    "\n",
    "    ax.set_xlim(min(pontos_array[:, 0]) - r, max(pontos_array[:, 0]) + r)\n",
    "    ax.set_ylim(min(pontos_array[:, 1]) - r, max(pontos_array[:, 1]) + r)\n",
    "\n",
    "    dentro = inCirc(pontos, r)\n",
    "    info = \"Todos os pontos DENTRO\" if dentro else \"Algum ponto FORA\"\n",
    "    ax.set_title(f\"{titulo}\\n{info}\")\n",
    "    ax.set_xlabel(\"x\")\n",
    "    ax.set_ylabel(\"y\")\n",
    "    ax.legend()\n",
    "    ax.grid(True)\n",
    "    plt.show()"
   ]
  },
  {
   "cell_type": "code",
   "execution_count": 40,
   "metadata": {},
   "outputs": [],
   "source": [
    "def test_inCirc_grafico():\n",
    "    \"\"\"\n",
    "    Testa a função inCirc(pontos, r) e plota os resultados graficamente para 3 casos:\n",
    "\n",
    "    Exemplo 1: Todos os pontos dentro do círculo.\n",
    "    Exemplo 2: Pelo menos um ponto fora do círculo.\n",
    "    Exemplo 3: Pontos exatamente na fronteira.\n",
    "    \"\"\"\n",
    "    # Exemplo 1: Todos os pontos dentro do círculo\n",
    "    pontos1 = [(1, 1), (2, 2), (1, 2), (2, 1)]\n",
    "    n1 = len(pontos1)\n",
    "    centro_x1 = sum(p[0] for p in pontos1) / n1\n",
    "    centro_y1 = sum(p[1] for p in pontos1) / n1\n",
    "    max_dist1 = max(\n",
    "        math.sqrt((x - centro_x1) ** 2 + (y - centro_y1) ** 2) for x, y in pontos1\n",
    "    )\n",
    "    r1 = max_dist1 + 0.2\n",
    "    print(\"Exemplo 1 - inCirc:\", inCirc(pontos1, r1))\n",
    "    plot_inCirc(pontos1, r1, \"Exemplo 1: Pontos DENTRO do Círculo\")\n",
    "\n",
    "    # Exemplo 2: Pelo menos um ponto fora do círculo\n",
    "    pontos2 = [(1, 1), (2, 2), (1, 2), (10, 10)]\n",
    "    n2 = len(pontos2)\n",
    "    centro_x2 = sum(p[0] for p in pontos2) / n2\n",
    "    centro_y2 = sum(p[1] for p in pontos2) / n2\n",
    "    max_dist2 = max(\n",
    "        math.sqrt((x - centro_x2) ** 2 + (y - centro_y2) ** 2) for x, y in pontos2\n",
    "    )\n",
    "    r2 = max_dist2 - 1.0  # Raio menor que a distância máxima\n",
    "    print(\"Exemplo 2 - inCirc:\", inCirc(pontos2, r2))\n",
    "    plot_inCirc(pontos2, r2, \"Exemplo 2: Pelo menos UM ponto FORA do Círculo\")\n",
    "\n",
    "    # Exemplo 3: Pontos exatamente na fronteira do círculo\n",
    "    pontos3 = [(0, 0), (2, 0), (1, math.sqrt(3))]\n",
    "    n3 = len(pontos3)\n",
    "    centro_x3 = sum(p[0] for p in pontos3) / n3\n",
    "    centro_y3 = sum(p[1] for p in pontos3) / n3\n",
    "    max_dist3 = max(\n",
    "        math.sqrt((x - centro_x3) ** 2 + (y - centro_y3) ** 2) for x, y in pontos3\n",
    "    )\n",
    "    r3 = max_dist3  # Raio exatamente igual à distância máxima\n",
    "    print(\"Exemplo 3 - inCirc:\", inCirc(pontos3, r3))\n",
    "    plot_inCirc(pontos3, r3, \"Exemplo 3: Pontos na FRONTEIRA do Círculo\")"
   ]
  },
  {
   "cell_type": "code",
   "execution_count": 41,
   "metadata": {},
   "outputs": [
    {
     "name": "stdout",
     "output_type": "stream",
     "text": [
      "Exemplo 1 - inCirc: True\n"
     ]
    },
    {
     "data": {
      "image/png": "[encoded data removed]",
      "text/plain": [
       "<Figure size 600x500 with 1 Axes>"
      ]
     },
     "metadata": {},
     "output_type": "display_data"
    },
    {
     "name": "stdout",
     "output_type": "stream",
     "text": [
      "Exemplo 2 - inCirc: False\n"
     ]
    },
    {
     "data": {
      "image/png": "[encoded data removed]",
      "text/plain": [
       "<Figure size 600x500 with 1 Axes>"
      ]
     },
     "metadata": {},
     "output_type": "display_data"
    },
    {
     "name": "stdout",
     "output_type": "stream",
     "text": [
      "Exemplo 3 - inCirc: True\n"
     ]
    },
    {
     "data": {
      "image/png": "[encoded data removed]",
      "text/plain": [
       "<Figure size 600x500 with 1 Axes>"
      ]
     },
     "metadata": {},
     "output_type": "display_data"
    }
   ],
   "source": [
    "# Execução dos testes gráficos para inCirc\n",
    "test_inCirc_grafico()"
   ]
  },
  {
   "cell_type": "markdown",
   "metadata": {},
   "source": [
    "### d) Qual a complexidade de inCirc(P, r)?\n",
    "\n",
    "A complexidade de inCirc(P, r) é O(n), onde n é o número de pontos em P, pois é necessário calcular a média dos pontos (O(n)) e depois verificar cada ponto contra o círculo (O(n))."
   ]
  },
  {
   "cell_type": "markdown",
   "metadata": {},
   "source": [
    "## Questão 5\n",
    "\n",
    "### a) Reescrição\n",
    "\n",
    "Utilizando a identidade da potenciação, podemos reescrever:\n",
    "    c^(2p + bi) = (c^p)^2 * c^(bi)\n",
    "\n",
    "Ou seja:\n",
    "- Se bi == 0, então c^(2p + 0) = (c^p)^2\n",
    "- Se bi == 1, então c^(2p + 1) = (c^p)^2 * c\n",
    "\n",
    "Assim, no pseudo-código podemos atualizar a variável c^P como:\n",
    "\n",
    "c^P <- c\n",
    "para i de (K-1) até 0:\n",
    "   c^P <- (c^P)^2\n",
    "   se bi == 1:\n",
    "         c^P <- c^P * c\n",
    "retorne c^P\n",
    "\n",
    "### b) Algoritmo expBin(c, Bn)"
   ]
  },
  {
   "cell_type": "code",
   "execution_count": 42,
   "metadata": {},
   "outputs": [],
   "source": [
    "def expBin(base, bits_expoente):\n",
    "    \"\"\"\n",
    "    Calcula base^N, onde N é representado pelos bits da lista bits_expoente = [b0, b1, ..., bk],\n",
    "    sendo que b_k é o bit mais significativo (deve ser 1 se N > 0).\n",
    "\n",
    "    O cálculo utiliza o método de Horner modificado, onde:\n",
    "      - Inicializamos o resultado com a base (correspondente ao bit mais significativo).\n",
    "      - Para cada bit, do penúltimo até o primeiro, realizamos:\n",
    "            resultado = (resultado)^2\n",
    "            Se o bit corrente for 1, multiplicamos o resultado por base.\n",
    "      - Retornamos o resultado final.\n",
    "\n",
    "    Exemplo:\n",
    "      Para N = 13, a representação binária é 1101.\n",
    "      Podemos definir bits_expoente = [1, 0, 1, 1] (onde o primeiro elemento é o bit menos significativo\n",
    "      e o último é o bit mais significativo). Assim, expBin(2, [1, 0, 1, 1]) calculará 2^13.\n",
    "\n",
    "    Parâmetros:\n",
    "      - base (int ou float): a base que será elevada à potência.\n",
    "      - bits_expoente (list[int]): lista de bits (0 ou 1) representando o expoente, com o bit\n",
    "        menos significativo em bits_expoente[0] e o mais significativo em bits_expoente[-1].\n",
    "\n",
    "    Retorna:\n",
    "      - O valor de base elevado à potência N.\n",
    "    \"\"\"\n",
    "    resultado = base  # Inicializa com o bit mais significativo (de N > 0)\n",
    "    # Itera do penúltimo bit até o primeiro, em ordem decrescente\n",
    "    for i in range(len(bits_expoente) - 2, -1, -1):\n",
    "        resultado = resultado * resultado  # Eleva o resultado ao quadrado\n",
    "        if bits_expoente[i] == 1:\n",
    "            resultado = resultado * base  # Multiplica por base se o bit corrente é 1\n",
    "    return resultado"
   ]
  },
  {
   "cell_type": "code",
   "execution_count": 43,
   "metadata": {},
   "outputs": [
    {
     "name": "stdout",
     "output_type": "stream",
     "text": [
      "Exemplo 1: 2^13 = 8192\n"
     ]
    }
   ],
   "source": [
    "# Exemplo 1: Calcular 2^13\n",
    "# 13 em binário: 1101, representado como [1, 0, 1, 1] (menor para maior)\n",
    "base = 2\n",
    "expoente_bin1 = [1, 0, 1, 1]\n",
    "print(\"Exemplo 1: 2^13 =\", expBin(base, expoente_bin1))"
   ]
  },
  {
   "cell_type": "code",
   "execution_count": 44,
   "metadata": {},
   "outputs": [
    {
     "name": "stdout",
     "output_type": "stream",
     "text": [
      "Exemplo 2: 3^19 = 1162261467\n"
     ]
    }
   ],
   "source": [
    "# Exemplo 2: Calcular 3^19\n",
    "# 19 em binário: 10011, representado como [1, 1, 0, 0, 1]\n",
    "base = 3\n",
    "expoente_bin2 = [1, 1, 0, 0, 1]\n",
    "print(\"Exemplo 2: 3^19 =\", expBin(base, expoente_bin2))"
   ]
  },
  {
   "cell_type": "code",
   "execution_count": 45,
   "metadata": {},
   "outputs": [
    {
     "name": "stdout",
     "output_type": "stream",
     "text": [
      "Exemplo 3: 5^0 = 1\n"
     ]
    }
   ],
   "source": [
    "# Exemplo 3: Calcular 5^0.\n",
    "# Por convenção, se a lista de bits estiver vazia, consideramos expoente 0.\n",
    "# Neste caso, a função pode ser adaptada para retornar 1.\n",
    "# Aqui usaremos uma verificação fora da função:\n",
    "base = 5\n",
    "expoente_bin3 = []  # Representação vazia indica expoente 0\n",
    "print(\"Exemplo 3: 5^0 =\", 1 if not expoente_bin3 else expBin(base, expoente_bin3))"
   ]
  },
  {
   "cell_type": "code",
   "execution_count": 46,
   "metadata": {},
   "outputs": [
    {
     "name": "stdout",
     "output_type": "stream",
     "text": [
      "Exemplo 4: 2^1 = 2\n"
     ]
    }
   ],
   "source": [
    "# Exemplo 4: Calcular 2^1\n",
    "# 1 em binário: 1, representado como [1]\n",
    "base = 2\n",
    "expoente_bin4 = [1]\n",
    "print(\"Exemplo 4: 2^1 =\", expBin(base, expoente_bin4))"
   ]
  },
  {
   "cell_type": "code",
   "execution_count": 47,
   "metadata": {},
   "outputs": [
    {
     "name": "stdout",
     "output_type": "stream",
     "text": [
      "Exemplo 5: 7^23 = 27368747340080916343\n"
     ]
    }
   ],
   "source": [
    "# Exemplo 5: Calcular 7^23\n",
    "# 23 em binário: 10111, representado como [1, 1, 1, 0, 1]\n",
    "base = 7\n",
    "expoente_bin5 = [1, 1, 1, 0, 1]\n",
    "print(\"Exemplo 5: 7^23 =\", expBin(base, expoente_bin5))"
   ]
  },
  {
   "cell_type": "markdown",
   "metadata": {},
   "source": [
    "### c) Qual a complexidade de tempo de expBi(c, Bn) em função de N?\n",
    "\n",
    "A complexidade de expBin(c, Bn) é O(k), onde k é o número de bits em N.\n",
    "Como k é aproximadamente log₂(N), a complexidade em função de N é O(log N)."
   ]
  },
  {
   "cell_type": "markdown",
   "metadata": {},
   "source": [
    "## Questão 6\n",
    "\n",
    "### a) Método para ordenar A eficientemente\n",
    "\n",
    "Para ordenar N strings formadas apenas por letras minúsculas, uma boa escolha é utilizar o Radix Sort (MSD ou LSD). \n",
    "\n",
    "Esse algoritmo aproveita o fato de o alfabeto ser fixo (26 letras) e ordena as strings caractere a caractere.\n",
    "\n",
    "Se L for o comprimento máximo (ou médio) das strings, a complexidade temporal do Radix Sort é O(N * L), o que pode ser muito eficiente quando L é pequeno.\n",
    "\n",
    "### b) Função angroup(A)"
   ]
  },
  {
   "cell_type": "code",
   "execution_count": 48,
   "metadata": {},
   "outputs": [],
   "source": [
    "def angroup(lista_strings):\n",
    "    \"\"\"\n",
    "    Agrupa os anagramas presentes em uma lista de strings,\n",
    "    retornando os grupos ordenados primeiro pelo número de letras e,\n",
    "    em caso de empate, por ordem alfabética da chave (formada pelos caracteres ordenados).\n",
    "\n",
    "    Duas ou mais strings são anagramas se uma é uma permutação dos símbolos da outra.\n",
    "    A estratégia é:\n",
    "      1. Para cada string, calcular uma \"chave\" obtida ao ordenar seus caracteres.\n",
    "      2. Agrupar as strings que possuem a mesma chave.\n",
    "      3. Ordenar internamente cada grupo (para consistência).\n",
    "      4. Ordenar os grupos resultantes: primeiro pelo tamanho (número de letras) e,\n",
    "         depois, pela ordem alfabética da chave.\n",
    "\n",
    "    Parâmetros:\n",
    "      - lista_strings (list[str]): lista de strings (formadas exclusivamente por letras minúsculas).\n",
    "\n",
    "    Retorna:\n",
    "      - list[list[str]]: lista de grupos de anagramas, ordenados conforme descrito.\n",
    "\n",
    "    Exemplo:\n",
    "      Entrada: ['cao', 'jaca', 'oca', 'cora', 'arar', 'ora', 'rara', 'caja', 'aco', 'aro']\n",
    "      Retorno: [['aco', 'cao', 'oca'], ['aro', 'ora'], ['arar', 'rara'], ['caja', 'jaca'], ['cora']]\n",
    "    \"\"\"\n",
    "    grupos_anagramas = {}\n",
    "    for palavra in lista_strings:\n",
    "        # A chave é formada pelos caracteres da palavra ordenados em ordem alfabética.\n",
    "        chave = \"\".join(sorted(palavra))\n",
    "        if chave not in grupos_anagramas:\n",
    "            grupos_anagramas[chave] = []\n",
    "        grupos_anagramas[chave].append(palavra)\n",
    "\n",
    "    # Ordena internamente cada grupo para consistência\n",
    "    for chave in grupos_anagramas:\n",
    "        grupos_anagramas[chave].sort()\n",
    "\n",
    "    # Ordena os grupos:\n",
    "    # 1°: pelo número de caracteres (tamanho da chave)\n",
    "    # 2°: pela ordem alfabética da chave\n",
    "    grupos_ordenados = sorted(\n",
    "        grupos_anagramas.items(), key=lambda tup: (len(tup[0]), tup[0])\n",
    "    )\n",
    "\n",
    "    # Retorna apenas os grupos (listas de anagramas) na ordem desejada.\n",
    "    return [grupo for chave, grupo in grupos_ordenados]"
   ]
  },
  {
   "cell_type": "code",
   "execution_count": 49,
   "metadata": {},
   "outputs": [
    {
     "name": "stdout",
     "output_type": "stream",
     "text": [
      "Exemplo 1 - Entrada: ['cao', 'jaca', 'oca', 'cora', 'arar', 'ora', 'rara', 'caja', 'aco', 'aro']\n",
      "Exemplo 1 - Grupos de anagramas: [['aco', 'cao', 'oca'], ['aro', 'ora'], ['caja', 'jaca'], ['arar', 'rara'], ['cora']]\n",
      "\n"
     ]
    }
   ],
   "source": [
    "# CELULA 1 - Exemplo 1\n",
    "A1 = [\"cao\", \"jaca\", \"oca\", \"cora\", \"arar\", \"ora\", \"rara\", \"caja\", \"aco\", \"aro\"]\n",
    "resultado1 = angroup(A1)\n",
    "print(\"Exemplo 1 - Entrada:\", A1)\n",
    "print(\"Exemplo 1 - Grupos de anagramas:\", resultado1)\n",
    "print()"
   ]
  },
  {
   "cell_type": "code",
   "execution_count": 50,
   "metadata": {},
   "outputs": [
    {
     "name": "stdout",
     "output_type": "stream",
     "text": [
      "Exemplo 2 - Entrada: ['listen', 'silent', 'enlist', 'google', 'glegoo', 'inlets', 'banana']\n",
      "Exemplo 2 - Grupos de anagramas: [['banana'], ['glegoo', 'google'], ['enlist', 'inlets', 'listen', 'silent']]\n",
      "\n"
     ]
    }
   ],
   "source": [
    "# CELULA 2 - Exemplo 2\n",
    "A2 = [\"listen\", \"silent\", \"enlist\", \"google\", \"glegoo\", \"inlets\", \"banana\"]\n",
    "resultado2 = angroup(A2)\n",
    "print(\"Exemplo 2 - Entrada:\", A2)\n",
    "print(\"Exemplo 2 - Grupos de anagramas:\", resultado2)\n",
    "print()"
   ]
  },
  {
   "cell_type": "code",
   "execution_count": 51,
   "metadata": {},
   "outputs": [
    {
     "name": "stdout",
     "output_type": "stream",
     "text": [
      "Exemplo 3 - Entrada: ['abc', 'cab', 'bac', 'xyz', 'zxy', 'yxz', 'foo', 'ofo', 'oof', 'bar']\n",
      "Exemplo 3 - Grupos de anagramas: [['abc', 'bac', 'cab'], ['bar'], ['foo', 'ofo', 'oof'], ['xyz', 'yxz', 'zxy']]\n",
      "\n"
     ]
    }
   ],
   "source": [
    "# CELULA 3 - Exemplo 3\n",
    "A3 = [\"abc\", \"cab\", \"bac\", \"xyz\", \"zxy\", \"yxz\", \"foo\", \"ofo\", \"oof\", \"bar\"]\n",
    "resultado3 = angroup(A3)\n",
    "print(\"Exemplo 3 - Entrada:\", A3)\n",
    "print(\"Exemplo 3 - Grupos de anagramas:\", resultado3)\n",
    "print()"
   ]
  },
  {
   "cell_type": "code",
   "execution_count": 52,
   "metadata": {},
   "outputs": [
    {
     "name": "stdout",
     "output_type": "stream",
     "text": [
      "Exemplo 4 - Entrada: ['rat', 'tar', 'art', 'star', 'tars', 'cheese', 'seeche']\n",
      "Exemplo 4 - Grupos de anagramas: [['art', 'rat', 'tar'], ['star', 'tars'], ['cheese', 'seeche']]\n",
      "\n"
     ]
    }
   ],
   "source": [
    "# CELULA 4 - Exemplo 4\n",
    "A4 = [\"rat\", \"tar\", \"art\", \"star\", \"tars\", \"cheese\", \"seeche\"]\n",
    "resultado4 = angroup(A4)\n",
    "print(\"Exemplo 4 - Entrada:\", A4)\n",
    "print(\"Exemplo 4 - Grupos de anagramas:\", resultado4)\n",
    "print()"
   ]
  },
  {
   "cell_type": "code",
   "execution_count": 53,
   "metadata": {},
   "outputs": [
    {
     "name": "stdout",
     "output_type": "stream",
     "text": [
      "Exemplo 5 - Entrada: ['amor', 'roma', 'mora', 'maro', 'ramo', 'omar']\n",
      "Exemplo 5 - Grupos de anagramas: [['amor', 'maro', 'mora', 'omar', 'ramo', 'roma']]\n",
      "\n"
     ]
    }
   ],
   "source": [
    "# CELULA 5 - Exemplo 5\n",
    "A5 = [\"amor\", \"roma\", \"mora\", \"maro\", \"ramo\", \"omar\"]\n",
    "resultado5 = angroup(A5)\n",
    "print(\"Exemplo 5 - Entrada:\", A5)\n",
    "print(\"Exemplo 5 - Grupos de anagramas:\", resultado5)\n",
    "print()"
   ]
  },
  {
   "cell_type": "code",
   "execution_count": 54,
   "metadata": {},
   "outputs": [
    {
     "name": "stdout",
     "output_type": "stream",
     "text": [
      "Exemplo 6 - Entrada: ['at', 'ta', 'bat', 'tab', 'abt', 'cat', 'act']\n",
      "Exemplo 6 - Grupos de anagramas: [['at', 'ta'], ['abt', 'bat', 'tab'], ['act', 'cat']]\n",
      "\n"
     ]
    }
   ],
   "source": [
    "# CELULA 6 - Exemplo 6\n",
    "A6 = [\"at\", \"ta\", \"bat\", \"tab\", \"abt\", \"cat\", \"act\"]\n",
    "resultado6 = angroup(A6)\n",
    "print(\"Exemplo 6 - Entrada:\", A6)\n",
    "print(\"Exemplo 6 - Grupos de anagramas:\", resultado6)\n",
    "print()"
   ]
  },
  {
   "cell_type": "code",
   "execution_count": 55,
   "metadata": {},
   "outputs": [
    {
     "name": "stdout",
     "output_type": "stream",
     "text": [
      "Exemplo 7 - Entrada: ['dorm', 'mord', 'norm', 'rond', 'dorn', 'random', 'adnorm']\n",
      "Exemplo 7 - Grupos de anagramas: [['dorm', 'mord'], ['dorn', 'rond'], ['norm'], ['adnorm', 'random']]\n",
      "\n"
     ]
    }
   ],
   "source": [
    "# CELULA 7 - Exemplo 7\n",
    "A7 = [\"dorm\", \"mord\", \"norm\", \"rond\", \"dorn\", \"random\", \"adnorm\"]\n",
    "resultado7 = angroup(A7)\n",
    "print(\"Exemplo 7 - Entrada:\", A7)\n",
    "print(\"Exemplo 7 - Grupos de anagramas:\", resultado7)\n",
    "print()"
   ]
  },
  {
   "cell_type": "code",
   "execution_count": 56,
   "metadata": {},
   "outputs": [
    {
     "name": "stdout",
     "output_type": "stream",
     "text": [
      "Exemplo 8 - Entrada: ['abacate', 'cabaate', 'tabaeca', 'banana', 'ananab', 'nabana']\n",
      "Exemplo 8 - Grupos de anagramas: [['ananab', 'banana', 'nabana'], ['abacate', 'cabaate', 'tabaeca']]\n",
      "\n"
     ]
    }
   ],
   "source": [
    "# CELULA 8 - Exemplo 8\n",
    "A8 = [\"abacate\", \"cabaate\", \"tabaeca\", \"banana\", \"ananab\", \"nabana\"]\n",
    "resultado8 = angroup(A8)\n",
    "print(\"Exemplo 8 - Entrada:\", A8)\n",
    "print(\"Exemplo 8 - Grupos de anagramas:\", resultado8)\n",
    "print()"
   ]
  },
  {
   "cell_type": "code",
   "execution_count": 57,
   "metadata": {},
   "outputs": [
    {
     "name": "stdout",
     "output_type": "stream",
     "text": [
      "Exemplo 9 - Entrada: ['python', 'typhon', 'nothpy', 'java', 'avaj', 'c++']\n",
      "Exemplo 9 - Grupos de anagramas: [['c++'], ['avaj', 'java'], ['nothpy', 'python', 'typhon']]\n",
      "\n"
     ]
    }
   ],
   "source": [
    "# CELULA 9 - Exemplo 9\n",
    "A9 = [\"python\", \"typhon\", \"nothpy\", \"java\", \"avaj\", \"c++\"]\n",
    "resultado9 = angroup(A9)\n",
    "print(\"Exemplo 9 - Entrada:\", A9)\n",
    "print(\"Exemplo 9 - Grupos de anagramas:\", resultado9)\n",
    "print()"
   ]
  },
  {
   "cell_type": "code",
   "execution_count": 58,
   "metadata": {},
   "outputs": [
    {
     "name": "stdout",
     "output_type": "stream",
     "text": [
      "Exemplo 10 - Entrada: ['estrela', 'relaets', 'salter', 'notas', 'santo', 'tanso', 'satan', 'antas']\n",
      "Exemplo 10 - Grupos de anagramas: [['antas', 'satan'], ['notas', 'santo', 'tanso'], ['salter'], ['estrela', 'relaets']]\n",
      "\n"
     ]
    }
   ],
   "source": [
    "# CELULA 10 - Exemplo 10\n",
    "A10 = [\"estrela\", \"relaets\", \"salter\", \"notas\", \"santo\", \"tanso\", \"satan\", \"antas\"]\n",
    "resultado10 = angroup(A10)\n",
    "print(\"Exemplo 10 - Entrada:\", A10)\n",
    "print(\"Exemplo 10 - Grupos de anagramas:\", resultado10)\n",
    "print()"
   ]
  },
  {
   "cell_type": "markdown",
   "metadata": {},
   "source": [
    "### c) Qual a complexidade de anagroup(A)?\n",
    "\n",
    "Entrada: A = [cao, jaca, oca, cora, arar, ora, rara, caja, aco, aro] Retorno: [[aco, cao, oca], [aro, ora], [arar, rara], [caja, jaca], [cora]]\n",
    "\n",
    "A complexidade de angroup(A) é O(N * L log L), onde:\n",
    "- N é o número de strings em A;\n",
    "- L é o comprimento médio (ou máximo) de uma string.\n",
    "\n",
    "Isso porque, para cada string, é necessária a ordenação dos seus caracteres, que custa O(L log L) em média, e isso é feito para todas as N strings.\n",
    "\n",
    "Complexidade: Para cada uma das N strings, ordenamos seus L caracteres, o que tem custo O(L log L). Assim, a complexidade total da função é O(N * L log L)."
   ]
  }
 ],
 "metadata": {
  "kernelspec": {
   "display_name": "venv",
   "language": "python",
   "name": "python3"
  },
  "language_info": {
   "codemirror_mode": {
    "name": "ipython",
    "version": 3
   },
   "file_extension": ".py",
   "mimetype": "text/x-python",
   "name": "python",
   "nbconvert_exporter": "python",
   "pygments_lexer": "ipython3",
   "version": "3.12.3"
  }
 },
 "nbformat": 4,
 "nbformat_minor": 2
}
